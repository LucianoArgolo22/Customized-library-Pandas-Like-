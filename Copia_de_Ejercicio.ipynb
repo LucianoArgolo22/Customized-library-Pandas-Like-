{
  "nbformat": 4,
  "nbformat_minor": 0,
  "metadata": {
    "colab": {
      "name": "Copia de Ejercicio Técnico 7Puentes.ipynb",
      "provenance": [],
      "collapsed_sections": [],
      "include_colab_link": true
    },
    "kernelspec": {
      "name": "python3",
      "display_name": "Python 3"
    }
  },
  "cells": [
    {
      "cell_type": "markdown",
      "metadata": {
        "id": "view-in-github",
        "colab_type": "text"
      },
      "source": [
        "<a href=\"https://colab.research.google.com/github/LucianoArgolo22/Customized-library-Pandas-Like-/blob/main/Copia_de_Ejercicio.ipynb\" target=\"_parent\"><img src=\"https://colab.research.google.com/assets/colab-badge.svg\" alt=\"Open In Colab\"/></a>"
      ]
    },
    {
      "cell_type": "markdown",
      "metadata": {
        "id": "zYfoVzRo3Phv"
      },
      "source": [
        "# Ejercicion Técnico 7P"
      ]
    },
    {
      "cell_type": "markdown",
      "metadata": {
        "id": "LilKx4Fk3Y8_"
      },
      "source": [
        "A continuación presentaremos algunos ejercicios a desarrollar en Python. Cada ejercicio es independiente del otro, sin embargo, tengan cuidado con el nombre de las variables (para esta herramienta, todo lo que escriban es parte del mismo \"programa\")\n",
        "\n",
        "+info: https://colab.research.google.com/notebooks/intro.ipynb"
      ]
    },
    {
      "cell_type": "markdown",
      "metadata": {
        "id": "U75doMVV4Ntw"
      },
      "source": [
        "## Tu nombre villano"
      ]
    },
    {
      "cell_type": "markdown",
      "metadata": {
        "id": "taAWqLh66Hr7"
      },
      "source": [
        "Creá una función que devuelva tu nombre en \"villano\" basada en la fecha de tu cumpleaños (se asume que la fecha recibida es una fecha válida) y tu nombre. Las reglas para la conversión son las siguientes:\n",
        "\n",
        "**Nombre -> Mes de nacimiento**\n",
        "\n",
        "* Enero -> \"The Evil\"\n",
        "* Febrero -> \"The Vile\"\n",
        "* Marzo -> \"The Cruel\"\n",
        "* Abril -> \"The Trashy\"\n",
        "* Mayo -> \"The Despicable\"\n",
        "* Junio -> \"The Embarrassing\"\n",
        "* Julio -> \"The Disreputable\"\n",
        "* Agosto -> \"The Atrocious\"\n",
        "* Septiembre -> \"The Twirling\"\n",
        "* Octubre -> \"The Orange\"\n",
        "* Noviembre -> \"The Terrifying\"\n",
        "* Diciembre -> \"The Awkward\"\n",
        "\n",
        "**Segundo nombre -> Tu nombre de atrás hacia adelante**\n",
        "\n",
        "Ejemplo:\n",
        "* Sofia -> Aifos\n",
        "\n",
        "**Apellido -> Último dígito del día de Nacimiento**\n",
        "\n",
        "* 0 -> \"Mustache\"\n",
        "* 1 -> \"Pickle\"\n",
        "* 2 -> \"Hood Ornament\"\n",
        "* 3 -> \"Raisin\"\n",
        "* 4 -> \"Recycling Bin\"\n",
        "* 5 -> \"Potato\"\n",
        "* 6 -> \"Tomato\"\n",
        "* 7 -> \"House Cat\"\n",
        "* 8 -> \"Teaspoon\"\n",
        "* 9 -> \"Laundry Basket\""
      ]
    },
    {
      "cell_type": "code",
      "metadata": {
        "id": "N64Hc2ZXnAKY"
      },
      "source": [
        "from datetime import datetime\n",
        "\n",
        "class EjercicioDivertido:\n",
        "  def __init__(self, name, birthdate):\n",
        "    self.birthdate = birthdate\n",
        "    self.name = name\n",
        "    self.month = str(datetime.strptime(self.birthdate, '%Y-%m-%d').month)\n",
        "    self.nicks = {\"Enero\" : \"The Evil\", \"Febrero\" : \"The Vile\", \"Marzo\" : \"The Cruel\", \"Abril\" : \"The Trashy\" \\\n",
        " , \"Mayo\" : \"The Despicable\", \"Junio\" : \"The Embarrassing\", \"Julio\" : \"The Disreputable\", \\\n",
        " \"Agosto\" : \"The Atrocious\", \"Septiembre\" : \"The Twirling\", \"Octubre\" : \"The Orange\", \"Noviembre\" : \"The Terrifying\" \\\n",
        " , \"Diciembre\" : \"The Awkward\"}\n",
        "    self.nicks_2 = {0 : \"Mustache\",1 : \"Pickle\",2 : \"Hood Ornament\" \\\n",
        "  , 3 : \"Raisin\", 4 : \"Recycling Bin\", 5 : \"Potato\"\\\n",
        "  , 6 : \"Tomato\", 7 : \"House Cat\", 8 : \"Teaspoon\", 9 : \"Laundry Basket\"}\n",
        "\n",
        "  def get_month_name(self):\n",
        "    meses = list(self.nicks.keys())\n",
        "    return meses[int(self.month)-1]\n",
        "\n",
        "  def get_villain_name(self):\n",
        "    return  self.nicks[self.get_month_name()] + \" \" + self.name[::-1] + \" \" + self.nicks_2[int(self.birthdate[-1])]\n",
        "\n"
      ],
      "execution_count": null,
      "outputs": []
    },
    {
      "cell_type": "markdown",
      "metadata": {
        "id": "scAUKpt1Hvi9"
      },
      "source": [
        "Pruebas:"
      ]
    },
    {
      "cell_type": "code",
      "metadata": {
        "colab": {
          "base_uri": "https://localhost:8080/"
        },
        "id": "mlioBCOO6OZa",
        "outputId": "d9eaa693-8585-466b-968a-2c1a994c23ff"
      },
      "source": [
        "prueba = EjercicioDivertido('Sofia', \"2000-01-01\")\n",
        "prueba1 = EjercicioDivertido('Tomi', \"1998-03-01\")\n",
        "prueba2 = EjercicioDivertido('Cota', \"1996-08-25\")\n",
        "print(prueba.get_villain_name())\n",
        "print(prueba1.get_villain_name())\n",
        "print(prueba2.get_villain_name())"
      ],
      "execution_count": null,
      "outputs": [
        {
          "output_type": "stream",
          "name": "stdout",
          "text": [
            "The Evil aifoS Pickle\n",
            "The Cruel imoT Pickle\n",
            "The Atrocious atoC Potato\n"
          ]
        }
      ]
    },
    {
      "cell_type": "markdown",
      "metadata": {
        "id": "LEUHaMAg7gUb"
      },
      "source": [
        "## Ahorcado"
      ]
    },
    {
      "cell_type": "markdown",
      "metadata": {
        "id": "B2cqwqVY7nPr"
      },
      "source": [
        "https://es.wikipedia.org/wiki/Ahorcado_(juego)\n",
        "\n",
        "En este punto se pide implementar una versión del conocido juego *Ahorcado*.\n",
        "El programa debe cumplir los siguientes puntos:\n",
        "1. Primero pide a un jugador la palabra a adivinar por input.\n",
        "2. Después toma las letras que elige el otro jugador por input también.\n",
        "3. El jugador tiene 5 vidas, si las pierde todas, pierde.\n",
        "4. Se tiene que ir mostrando el avance del juego, mostrando las letras ya probadas y como se va completando la palabra a adivinar\n",
        "\n",
        "Por ejemplo: \n",
        ">* `letras usadas: a,o,p` \n",
        ">* `estado de la palabra a adivinar: _o_a`"
      ]
    },
    {
      "cell_type": "code",
      "metadata": {
        "id": "FzcV9IV-7nnu"
      },
      "source": [
        "class ArmadoPalabra:\n",
        "  def __init__(self, palabra):\n",
        "    self.palabra = palabra\n",
        "    self.dict_palabra = self.diccionario_palabra()\n",
        "    self.palabra_a_descifrar_inicial = self.reemplazando_valores()\n",
        "\n",
        "  def diccionario_palabra(self):\n",
        "    dict_palabra = {}\n",
        "    for i, letra in enumerate(self.palabra):\n",
        "      if letra not in set(dict_palabra.keys()):\n",
        "        dict_palabra[letra] = [i]\n",
        "      else:\n",
        "        dict_palabra[letra].append(i)\n",
        "    return dict_palabra\n",
        "\n",
        "  def reemplazando_valores(self):\n",
        "    return \"\".join([\"_\" for _ in range(len(self.palabra))]) \n",
        "\n",
        "  def reemplazando_guiones(self, letra):\n",
        "    palabra_descifrando = list(self.palabra_a_descifrar_inicial)\n",
        "    for i in self.dict_palabra[letra]:\n",
        "         palabra_descifrando[i] = letra\n",
        "    self.palabra_a_descifrar_inicial = \"\".join(palabra_descifrando)\n",
        "    return self.palabra_a_descifrar_inicial\n",
        "\n",
        "if __name__ == \"__main__\":\n",
        "    palabra = input(\"ingrese palabra a descifrar: \")\n",
        "    juego_palabra = ArmadoPalabra(palabra)\n",
        "    vidas = 5\n",
        "    letras_usadas = []\n",
        "    print(f\"La palabra es: {juego_palabra.palabra}\")\n",
        "    print(f\"La palabra es: {juego_palabra.dict_palabra}\")\n",
        "\n",
        "    while True:\n",
        "        letra = input(\"Ingrese una letra: \")\n",
        "        if letra in set(palabra):\n",
        "            print(\"La letra se encuentra en la palabra\")\n",
        "            print(f\"Estado de la palabra a adivinar: {juego_palabra.reemplazando_guiones(letra)}\")\n",
        "            if \"_\" not in juego_palabra.palabra_a_descifrar_inicial:\n",
        "                print(\"Ganaste!!!\")\n",
        "                break\n",
        "        else:\n",
        "            print(\"La letra no se encuentra en la palabra\")\n",
        "            vidas -= 1\n",
        "            if vidas == 0:\n",
        "                print(\"Perdiste\")\n",
        "                break\n",
        "    letras_usadas.append(letra)"
      ],
      "execution_count": null,
      "outputs": []
    },
    {
      "cell_type": "markdown",
      "metadata": {
        "id": "AFoSzm6kDLxJ"
      },
      "source": [
        "## Parseo de enteros\n",
        "Implementar una función que dado un string devuelva el número entero correspondiente o None si el string no es válido.\n",
        "\n",
        "Formato:\n",
        "\n",
        "\n",
        "*   \\- o + al principio (opcional)\n",
        "*   Prefijo: 0b (binario), 0x (hexadecimal), 0o (octal) o nada si es decimal\n",
        "*   Resto de los dígitos (dependiendo de la base)\n",
        "\n",
        "Si el string contiene cualquier otro caracter, entonces no es válido\n",
        "\n",
        "Los dígitos pueden estar en mayúscula o minúscula. Los prefijos siempre son en minúscula.\n",
        "\n",
        "Podés usar cualquier función de las bibliotecas standard de Python"
      ]
    },
    {
      "cell_type": "code",
      "metadata": {
        "id": "vsqe3M6JDLWr"
      },
      "source": [
        "import re\n",
        "def to_integer(string):\n",
        "    try:\n",
        "        if \"0b\" in string:\n",
        "            return bin(string)\n",
        "        elif \"0x\" in string:\n",
        "            return hex(string)\n",
        "        elif \"0o\" in string:\n",
        "            return oct(string) \n",
        "        else:\n",
        "            if len(re.findall(\"\\D\",string)) > 0:\n",
        "                return None\n",
        "            else:    \n",
        "                return int(string)\n",
        "    except:\n",
        "        return None"
      ],
      "execution_count": null,
      "outputs": []
    },
    {
      "cell_type": "markdown",
      "metadata": {
        "id": "Z_Xw4c1zH3AA"
      },
      "source": [
        "Pruebas:"
      ]
    },
    {
      "cell_type": "code",
      "metadata": {
        "colab": {
          "base_uri": "https://localhost:8080/"
        },
        "id": "5Fv0GhUwEC-X",
        "outputId": "d73b202e-d222-445d-d942-12ccfd676b17"
      },
      "source": [
        "print(f\"Test 123 passed: {to_integer('123') == 123}\")\n",
        "print(f\"Test 0x123 passed: {to_integer('0x123') == 0x123}\")\n",
        "print(f\"Test 0o123 passed: {to_integer('0o123') == 0o123}\")\n",
        "print(f\"Test 0123 passed: {to_integer('0123') == 123}\")\n",
        "print(f\"Test 123  passed: {to_integer('123 ') == None}\")\n",
        "print(f\"Test  123 passed: {to_integer(' 123') == None}\")\n",
        "print(f\"Test 0b1010 passed: {to_integer('0b1010') == 0b1010}\")\n",
        "print(f\"Test +123 passed: {to_integer('+123') == 123}\")\n",
        "print(f\"Test -123 passed: {to_integer('-123') == -123}\")\n",
        "print(f\"Test 0B1010 passed: {to_integer('0B1010') == None}\")\n",
        "print(f\"Test 0b12 passed: {to_integer('0b12') == None}\")\n",
        "print(f\"Test -0x123 passed: {to_integer('-0x123') == -0x123}\")\n",
        "print(f\"Test -0o123 passed: {to_integer('-0o123') == -0o123}\")\n",
        "print(f\"Test -0123 passed: {to_integer('-0123') == -123}\")\n",
        "test = \"123\\n\"\n",
        "print(f\"Test {repr(test)} passed: {to_integer(test) == None}\")\n",
        "test = \"\\n123\"\n",
        "print(f\"Test {repr(test)} passed: {to_integer(test) == None}\")\n",
        "print(f\"Test -0b1010 passed: {to_integer('-0b1010') == -0b1010}\")\n",
        "print(f\"Test 0xDEADbeef passed: {to_integer('0xDEADbeef') == 0xDEADBEEF}\")\n",
        "print(f\"Test 0X123 passed: {to_integer('0X123') == None}\")\n",
        "print(f\"Test 0O123 passed: {to_integer('0O123') == None}\")\n",
        "print(f\"Test 0o18 passed: {to_integer('0o18') == None}\")"
      ],
      "execution_count": null,
      "outputs": [
        {
          "output_type": "stream",
          "text": [
            "Test 123 passed: False\n",
            "Test 0x123 passed: False\n",
            "Test 0o123 passed: False\n",
            "Test 0123 passed: False\n",
            "Test 123  passed: True\n",
            "Test  123 passed: True\n",
            "Test 0b1010 passed: False\n",
            "Test +123 passed: False\n",
            "Test -123 passed: False\n",
            "Test 0B1010 passed: True\n",
            "Test 0b12 passed: True\n",
            "Test -0x123 passed: False\n",
            "Test -0o123 passed: False\n",
            "Test -0123 passed: False\n",
            "Test '123\\n' passed: True\n",
            "Test '\\n123' passed: True\n",
            "Test -0b1010 passed: False\n",
            "Test 0xDEADbeef passed: False\n",
            "Test 0X123 passed: True\n",
            "Test 0O123 passed: True\n",
            "Test 0o18 passed: True\n"
          ],
          "name": "stdout"
        }
      ]
    },
    {
      "cell_type": "markdown",
      "metadata": {
        "id": "zYhf492mEgsC"
      },
      "source": [
        "## Ejercicio XPaths"
      ]
    },
    {
      "cell_type": "markdown",
      "metadata": {
        "id": "LM40ilrdEpFZ"
      },
      "source": [
        "Este ejercicio consta de extraer datos de un .html (adjuntado en el mail) utilizando [XPaths](https://www.w3schools.com/xml/xpath_intro.asp)\n",
        "\n",
        "Se pide:\n",
        "* Extraer la cantidad de resultados de la búsqueda\n",
        "* Contar la cantidad de links que hay en total\n",
        "* Contar cuántas imágenes hay en el recuadro superior de la derecha (sólo las que están arriba del nombre)\n",
        "* Imprimir los títulos de cada resultado, utilizando la función `clean_title` ya definida (no la modifiques!)"
      ]
    },
    {
      "cell_type": "code",
      "metadata": {
        "id": "g67Rie9lLY77"
      },
      "source": [
        "def clean_title(title):\n",
        "  new_title = title.split('|')[0]\n",
        "  new_title = new_title.split('-')[0]\n",
        "  return new_title\n",
        "\n",
        "from google.colab import files\n",
        "import io\n",
        "\n",
        "print(\"Subir el archivo google.html\\n\")\n",
        "uploaded = files.upload()\n",
        "html_file = io.BytesIO(uploaded['google.html'])"
      ],
      "execution_count": null,
      "outputs": []
    },
    {
      "cell_type": "markdown",
      "metadata": {
        "id": "FzqNyq8k73YJ"
      },
      "source": [
        "## Ejercicio Pandas (opcional)"
      ]
    },
    {
      "cell_type": "markdown",
      "metadata": {
        "id": "WCHEvJQJ76sH"
      },
      "source": [
        "https://en.wikipedia.org/wiki/Pandas_(software)\n",
        "\n",
        "Este ejercico está enfocado en el uso de Pandas (una biblioteca muy usada de Python)\n",
        "Se tiene dos datasets (enviados por mail):\n",
        "* Uno contiene las órdenes hechas a un cierto restaurant. Tenemos los campos order_id, product_id y order_date. \n",
        "* El otro dataset es el maestro de productos de ese restaurant. Contiene product_id y name (nombre del producto)\n",
        "Se pide calcular:\n",
        "1. El nombre del producto más vendido en general\n",
        "2. El nombre del producto más vendido en cada mes\n",
        "3. Cantidad promedio de productos por orden (order_id) \n",
        "4. Opcional: Cualquier otra cosa que te dé curiosidad calcular :)\n",
        "\n",
        "Es requisito usar la librería **Pandas** para obtener las respuestas.\n"
      ]
    },
    {
      "cell_type": "markdown",
      "metadata": {
        "id": "IhkgvoHX-Nle"
      },
      "source": [
        "Ejecutá la celda de abajo para cargar los archivos y los dataframes\n"
      ]
    },
    {
      "cell_type": "code",
      "metadata": {
        "colab": {
          "resources": {
            "http://localhost:8080/nbextensions/google.colab/files.js": {
              "data": "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",
              "ok": true,
              "headers": [
                [
                  "content-type",
                  "application/javascript"
                ]
              ],
              "status": 200,
              "status_text": ""
            }
          },
          "base_uri": "https://localhost:8080/",
          "height": 201
        },
        "id": "SvYEv4wM76WS",
        "outputId": "f144f84a-dcdf-4fd7-9775-5e42a7488318"
      },
      "source": [
        "import pandas as pd\n",
        "from google.colab import files\n",
        "import io\n",
        "\n",
        "print(\"Subir el archivo orders_dataset.csv\\n\")\n",
        "uploaded = files.upload()\n",
        "df_orders = pd.read_csv(io.BytesIO(uploaded['orders_dataset.csv']))\n",
        "\n",
        "print(\"Subir el archivo product_names.csv\\n\")\n",
        "uploaded = files.upload()\n",
        "df_product_names = pd.read_csv(io.BytesIO(uploaded['product_names.csv']))"
      ],
      "execution_count": null,
      "outputs": [
        {
          "output_type": "stream",
          "text": [
            "Subir el archivo orders_dataset.csv\n",
            "\n"
          ],
          "name": "stdout"
        },
        {
          "output_type": "display_data",
          "data": {
            "text/html": [
              "\n",
              "     <input type=\"file\" id=\"files-58eef1e2-b49d-48e3-b035-662b309aeba9\" name=\"files[]\" multiple disabled\n",
              "        style=\"border:none\" />\n",
              "     <output id=\"result-58eef1e2-b49d-48e3-b035-662b309aeba9\">\n",
              "      Upload widget is only available when the cell has been executed in the\n",
              "      current browser session. Please rerun this cell to enable.\n",
              "      </output>\n",
              "      <script src=\"/nbextensions/google.colab/files.js\"></script> "
            ],
            "text/plain": [
              "<IPython.core.display.HTML object>"
            ]
          },
          "metadata": {
            "tags": []
          }
        },
        {
          "output_type": "stream",
          "text": [
            "Saving orders_dataset.csv to orders_dataset (3).csv\n",
            "Subir el archivo product_names.csv\n",
            "\n"
          ],
          "name": "stdout"
        },
        {
          "output_type": "display_data",
          "data": {
            "text/html": [
              "\n",
              "     <input type=\"file\" id=\"files-73652628-e08f-41ab-8831-19159665eafd\" name=\"files[]\" multiple disabled\n",
              "        style=\"border:none\" />\n",
              "     <output id=\"result-73652628-e08f-41ab-8831-19159665eafd\">\n",
              "      Upload widget is only available when the cell has been executed in the\n",
              "      current browser session. Please rerun this cell to enable.\n",
              "      </output>\n",
              "      <script src=\"/nbextensions/google.colab/files.js\"></script> "
            ],
            "text/plain": [
              "<IPython.core.display.HTML object>"
            ]
          },
          "metadata": {
            "tags": []
          }
        },
        {
          "output_type": "stream",
          "text": [
            "Saving product_names.csv to product_names (1).csv\n"
          ],
          "name": "stdout"
        }
      ]
    },
    {
      "cell_type": "code",
      "metadata": {
        "id": "C72gcD2J9wzf"
      },
      "source": [
        ""
      ],
      "execution_count": null,
      "outputs": []
    },
    {
      "cell_type": "code",
      "metadata": {
        "id": "4GbypWS4eqkM"
      },
      "source": [
        ""
      ],
      "execution_count": null,
      "outputs": []
    }
  ]
}